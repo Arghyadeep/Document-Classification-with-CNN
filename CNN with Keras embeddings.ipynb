{
 "cells": [
  {
   "cell_type": "code",
   "execution_count": 57,
   "metadata": {},
   "outputs": [],
   "source": [
    "#dependencies\n",
    "from string import punctuation\n",
    "from os import listdir\n",
    "from collections import Counter\n",
    "from nltk.corpus import stopwords\n",
    "import pandas as pd\n",
    "import numpy as np\n",
    "from numpy import array\n",
    "import keras\n",
    "from keras.preprocessing.text import Tokenizer\n",
    "from keras.preprocessing.sequence import pad_sequences\n",
    "from keras.models import Sequential\n",
    "from keras.layers import Dense, Dropout\n",
    "from keras.layers import Flatten\n",
    "from keras.layers import Embedding\n",
    "from keras.layers.convolutional import Conv1D\n",
    "from keras.layers.convolutional import MaxPooling1D\n",
    "from sklearn.preprocessing import LabelBinarizer"
   ]
  },
  {
   "cell_type": "code",
   "execution_count": 58,
   "metadata": {},
   "outputs": [],
   "source": [
    "def load_data(filename,encoding):\n",
    "    data = pd.read_csv(filename,encoding=encoding)\n",
    "    return data\n",
    "\n",
    "def create_train_test_sets(data,split):\n",
    "    np.random.seed(0)\n",
    "    mask = np.random.rand(len(data)) < split\n",
    "    train_data = data[mask]\n",
    "    test_data = data[~mask]\n",
    "    return train_data,test_data\n",
    "\n",
    "def clean_and_get_tokens(doc):\n",
    "    tokens = doc.split()\n",
    "    table = str.maketrans('','',punctuation)  #removes punctuations using \n",
    "    tokens = [w.translate(table) for w in tokens] #dictionary of punctuations\n",
    "    tokens = [word for word in tokens if word.isalpha()]\n",
    "    stop_words = set(stopwords.words('english'))\n",
    "    tokens = [w for w in tokens if not w in stop_words]\n",
    "    tokens = [word for word in tokens if len(word)>2]\n",
    "    return tokens"
   ]
  },
  {
   "cell_type": "code",
   "execution_count": 59,
   "metadata": {},
   "outputs": [],
   "source": [
    "data = load_data('bbc/BBC_news.csv','latin1')\n",
    "words = set()\n",
    "vocab = {}\n",
    "\n",
    "\n",
    "token = data['texts'][0].split()\n",
    "table = str.maketrans('','',punctuation)\n",
    "tokens = [w.translate(table) for w in token] \n",
    "#print(tokens)\n",
    "tokens = [word for word in tokens if word.isalpha()]\n",
    "stop_words = set(stopwords.words('english'))\n",
    "tokens = [w for w in tokens if not w in stop_words]\n",
    "tokens = [word for word in tokens if len(word)>2]\n",
    "#print(tokens)\n",
    "\n",
    "documents = data['texts']\n",
    "for doc in documents:\n",
    "    tokens = clean_and_get_tokens(doc)\n",
    "    for token in tokens:\n",
    "        if token in vocab:\n",
    "            vocab[token] += 1\n",
    "        else:\n",
    "            vocab[token] = 1\n",
    "\n",
    "for word in vocab:\n",
    "    if vocab[word] > 5:\n",
    "        words.add(word)\n",
    "\n",
    "\n",
    "\n",
    "train_data,test_data = create_train_test_sets(data,0.8)\n",
    "\n",
    "train_documents = []\n",
    "for doc in train_data['texts']:\n",
    "    tokens = doc.split()\n",
    "    final_tokens = []\n",
    "    #final_string = ''\n",
    "    for token in tokens:\n",
    "        if token in words:\n",
    "            final_tokens.append(token)\n",
    "    final_string = ' '.join(final_tokens)\n",
    "    train_documents.append(final_string)\n",
    "\n",
    "test_documents = []\n",
    "for doc in test_data['texts']:\n",
    "    tokens = doc.split()\n",
    "    final_tokens = []\n",
    "    #final_string = ''\n",
    "    for token in tokens:\n",
    "        if token in words:\n",
    "            final_tokens.append(token)\n",
    "    final_string = ' '.join(final_tokens)\n",
    "    test_documents.append(final_string)\n",
    "\n"
   ]
  },
  {
   "cell_type": "code",
   "execution_count": 75,
   "metadata": {},
   "outputs": [],
   "source": [
    "tokenizer = Tokenizer()\n",
    "tokenizer.fit_on_texts(train_documents)\n",
    "encoded_docs = tokenizer.texts_to_sequences(train_documents)\n",
    "\n",
    "max_length = max(([len(s.split()) for s in train_documents]))\n",
    "labels = train_data['CAT']\n",
    "train_labels = labels\n",
    "Xtrain = pad_sequences(encoded_docs, maxlen=max_length, padding='post')\n",
    "ytrain = keras.utils.to_categorical(labels, num_classes=5)"
   ]
  },
  {
   "cell_type": "code",
   "execution_count": 61,
   "metadata": {},
   "outputs": [],
   "source": [
    "encoded_docs = tokenizer.texts_to_sequences(test_documents)\n",
    "labels = test_data['CAT']\n",
    "Xtest = pad_sequences(encoded_docs, maxlen=max_length, padding='post')\n",
    "ytest = keras.utils.to_categorical(labels, num_classes=5)"
   ]
  },
  {
   "cell_type": "code",
   "execution_count": 62,
   "metadata": {},
   "outputs": [
    {
     "name": "stdout",
     "output_type": "stream",
     "text": [
      "_________________________________________________________________\n",
      "Layer (type)                 Output Shape              Param #   \n",
      "=================================================================\n",
      "embedding_2 (Embedding)      (None, 1582, 100)         879700    \n",
      "_________________________________________________________________\n",
      "conv1d_2 (Conv1D)            (None, 1567, 16)          25616     \n",
      "_________________________________________________________________\n",
      "max_pooling1d_2 (MaxPooling1 (None, 783, 16)           0         \n",
      "_________________________________________________________________\n",
      "flatten_2 (Flatten)          (None, 12528)             0         \n",
      "_________________________________________________________________\n",
      "dropout_2 (Dropout)          (None, 12528)             0         \n",
      "_________________________________________________________________\n",
      "dense_2 (Dense)              (None, 5)                 62645     \n",
      "=================================================================\n",
      "Total params: 967,961\n",
      "Trainable params: 967,961\n",
      "Non-trainable params: 0\n",
      "_________________________________________________________________\n",
      "None\n"
     ]
    }
   ],
   "source": [
    "vocab_size = len(tokenizer.word_index) + 1\n",
    "\n",
    "model = Sequential()\n",
    "model.add(Embedding(vocab_size, 100, input_length = max_length))\n",
    "model.add(Conv1D(filters=16, kernel_size=16, activation='relu'))\n",
    "model.add(MaxPooling1D(pool_size=2))\n",
    "model.add(Flatten())\n",
    "model.add(Dropout(0.2))\n",
    "model.add(Dense(5, activation='softmax'))\n",
    "print(model.summary())"
   ]
  },
  {
   "cell_type": "code",
   "execution_count": 63,
   "metadata": {},
   "outputs": [
    {
     "name": "stdout",
     "output_type": "stream",
     "text": [
      "Train on 1753 samples, validate on 472 samples\n",
      "Epoch 1/4\n",
      " - 5s - loss: 1.5017 - acc: 0.3269 - val_loss: 1.2275 - val_acc: 0.5106\n",
      "Epoch 2/4\n",
      " - 4s - loss: 0.6857 - acc: 0.7473 - val_loss: 0.3880 - val_acc: 0.8581\n",
      "Epoch 3/4\n",
      " - 4s - loss: 0.0945 - acc: 0.9795 - val_loss: 0.1540 - val_acc: 0.9407\n",
      "Epoch 4/4\n",
      " - 4s - loss: 0.0132 - acc: 0.9989 - val_loss: 0.1072 - val_acc: 0.9661\n"
     ]
    },
    {
     "data": {
      "text/plain": [
       "<keras.callbacks.History at 0x239b1c64828>"
      ]
     },
     "execution_count": 63,
     "metadata": {},
     "output_type": "execute_result"
    }
   ],
   "source": [
    "model.compile(loss='categorical_crossentropy', optimizer='adam', metrics=['accuracy'])\n",
    "# fit network\n",
    "model.fit(Xtrain, ytrain, epochs=5, verbose=2, validation_data = (Xtest,ytest))"
   ]
  },
  {
   "cell_type": "code",
   "execution_count": 64,
   "metadata": {},
   "outputs": [
    {
     "data": {
      "text/plain": [
       "array([[2.51485017e-06, 1.20323235e-02, 2.25236538e-04, 9.87738907e-01,\n",
       "        9.65116442e-07]], dtype=float32)"
      ]
     },
     "execution_count": 64,
     "metadata": {},
     "output_type": "execute_result"
    }
   ],
   "source": [
    "random_text = [\"I love business and sports\"]\n",
    "encoded_text = tokenizer.texts_to_sequences(random_text)\n",
    "test_text = pad_sequences(encoded_text, maxlen = max_length, padding= 'post')\n",
    "model.predict(test_text)"
   ]
  },
  {
   "cell_type": "code",
   "execution_count": 65,
   "metadata": {},
   "outputs": [],
   "source": [
    "ypred = model.predict(Xtest)\n",
    "pred_labels = []\n",
    "for probs in ypred:\n",
    "    label = np.argmax(probs, axis=-1)\n",
    "    pred_labels.append(int(label))\n",
    "actual_labels = list(labels)"
   ]
  },
  {
   "cell_type": "code",
   "execution_count": 66,
   "metadata": {},
   "outputs": [],
   "source": [
    "from sklearn.metrics import confusion_matrix\n",
    "cm = confusion_matrix(actual_labels, pred_labels)"
   ]
  },
  {
   "cell_type": "code",
   "execution_count": 67,
   "metadata": {},
   "outputs": [
    {
     "data": {
      "text/plain": [
       "Text(0.5,15,'Predicted label')"
      ]
     },
     "execution_count": 67,
     "metadata": {},
     "output_type": "execute_result"
    },
    {
     "data": {
      "image/png": "[encoded data removed]",
      "text/plain": [
       "<Figure size 432x288 with 2 Axes>"
      ]
     },
     "metadata": {
      "needs_background": "light"
     },
     "output_type": "display_data"
    }
   ],
   "source": [
    "import matplotlib.pyplot as plt\n",
    "import itertools\n",
    "cmap = plt.cm.Blues\n",
    "title = \"Confusion Matrix\"\n",
    "classes = 5\n",
    "normalize = False\n",
    "tick_marks = np.arange(classes)\n",
    "plt.imshow(cm, interpolation='nearest', cmap=cmap)\n",
    "plt.title(title)\n",
    "plt.colorbar()\n",
    "tick_marks = np.arange(5)\n",
    "#plt.xticks(tick_marks, classes, rotation=45)\n",
    "#plt.yticks(tick_marks, classes)\n",
    "\n",
    "fmt = '.2f' if normalize else 'd'\n",
    "thresh = cm.max() / 2.\n",
    "for i, j in itertools.product(range(cm.shape[0]), range(cm.shape[1])):\n",
    "    plt.text(j, i, format(cm[i, j], fmt),\n",
    "             horizontalalignment=\"center\",\n",
    "             color=\"white\" if cm[i, j] > thresh else \"black\")\n",
    "\n",
    "plt.tight_layout()\n",
    "plt.ylabel('True label')\n",
    "plt.xlabel('Predicted label')\n",
    "plt.show()"
   ]
  }
 ],
 "metadata": {
  "kernelspec": {
   "display_name": "Python 3",
   "language": "python",
   "name": "python3"
  },
  "language_info": {
   "codemirror_mode": {
    "name": "ipython",
    "version": 3
   },
   "file_extension": ".py",
   "mimetype": "text/x-python",
   "name": "python",
   "nbconvert_exporter": "python",
   "pygments_lexer": "ipython3",
   "version": "3.6.6"
  }
 },
 "nbformat": 4,
 "nbformat_minor": 2
}
