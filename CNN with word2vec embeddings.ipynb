{
 "cells": [
  {
   "cell_type": "code",
   "execution_count": 1,
   "metadata": {},
   "outputs": [
    {
     "name": "stderr",
     "output_type": "stream",
     "text": [
      "C:\\Users\\Arghyadeep\\Anaconda3\\envs\\tensorflow\\lib\\site-packages\\gensim\\utils.py:1197: UserWarning: detected Windows; aliasing chunkize to chunkize_serial\n",
      "  warnings.warn(\"detected Windows; aliasing chunkize to chunkize_serial\")\n",
      "Using TensorFlow backend.\n"
     ]
    }
   ],
   "source": [
    "#dependencies\n",
    "from string import punctuation\n",
    "from os import listdir\n",
    "from gensim.models import Word2Vec\n",
    "from string import punctuation\n",
    "from os import listdir\n",
    "from collections import Counter\n",
    "from nltk.corpus import stopwords\n",
    "import pandas as pd\n",
    "import numpy as np\n",
    "from numpy import array\n",
    "from numpy import asarray\n",
    "from numpy import zeros\n",
    "import keras\n",
    "from keras.preprocessing.text import Tokenizer\n",
    "from keras.preprocessing.sequence import pad_sequences\n",
    "from keras.models import Sequential\n",
    "from keras.layers import Dense, Dropout\n",
    "from keras.layers import Flatten\n",
    "from keras.layers import Embedding\n",
    "from keras.layers.convolutional import Conv1D\n",
    "from keras.layers.convolutional import MaxPooling1D"
   ]
  },
  {
   "cell_type": "code",
   "execution_count": 2,
   "metadata": {},
   "outputs": [],
   "source": [
    "def load_data(filename,encoding):\n",
    "    data = pd.read_csv(filename,encoding=encoding)\n",
    "    return data\n",
    "\n",
    "def create_train_test_sets(data,split):\n",
    "    np.random.seed(0)\n",
    "    mask = np.random.rand(len(data)) < split\n",
    "    train_data = data[mask]\n",
    "    test_data = data[~mask]\n",
    "    return train_data,test_data\n",
    "\n",
    "def clean_and_get_tokens(doc):\n",
    "    tokens = doc.split()\n",
    "    table = str.maketrans('','',punctuation)\n",
    "    tokens = [w.translate(table) for w in tokens]\n",
    "    tokens = [word for word in tokens if word.isalpha()]\n",
    "    stop_words = set(stopwords.words('english'))\n",
    "    tokens = [w for w in tokens if not w in stop_words]\n",
    "    tokens = [word for word in tokens if len(word)>2]\n",
    "    return tokens"
   ]
  },
  {
   "cell_type": "code",
   "execution_count": 3,
   "metadata": {},
   "outputs": [],
   "source": [
    "data = load_data('bbc/BBC_news.csv','latin1')\n",
    "words = set()\n",
    "vocab = {}\n",
    "\n",
    "\n",
    "token = data['texts'][0].split()\n",
    "table = str.maketrans('','',punctuation)\n",
    "tokens = [w.translate(table) for w in token] \n",
    "#print(tokens)\n",
    "tokens = [word for word in tokens if word.isalpha()]\n",
    "stop_words = set(stopwords.words('english'))\n",
    "tokens = [w for w in tokens if not w in stop_words]\n",
    "tokens = [word for word in tokens if len(word)>2]\n",
    "#print(tokens)\n",
    "\n",
    "documents = data['texts']\n",
    "for doc in documents:\n",
    "    tokens = clean_and_get_tokens(doc)\n",
    "    for token in tokens:\n",
    "        if token in vocab:\n",
    "            vocab[token] += 1\n",
    "        else:\n",
    "            vocab[token] = 1\n",
    "\n",
    "for word in vocab:\n",
    "    if vocab[word] > 2:\n",
    "        words.add(word)\n",
    "\n",
    "\n",
    "\n",
    "train_data,test_data = create_train_test_sets(data,0.8)\n",
    "\n",
    "train_documents = []\n",
    "for doc in train_data['texts']:\n",
    "    tokens = doc.split()\n",
    "    final_tokens = []\n",
    "    #final_string = ''\n",
    "    for token in tokens:\n",
    "        if token in words:\n",
    "            final_tokens.append(token)\n",
    "    #final_string = ' '.join(final_tokens)\n",
    "    train_documents.append(final_tokens)\n",
    "\n",
    "test_documents = []\n",
    "for doc in test_data['texts']:\n",
    "    tokens = doc.split()\n",
    "    final_tokens = []\n",
    "    for token in tokens:\n",
    "        if token in words:\n",
    "            final_tokens.append(token)\n",
    "    #final_string = ' '.join(final_tokens)\n",
    "    test_documents.append(final_tokens)\n",
    "    "
   ]
  },
  {
   "cell_type": "code",
   "execution_count": 4,
   "metadata": {},
   "outputs": [],
   "source": [
    "model = Word2Vec(train_documents, size = 100, window = 5, min_count=1)\n",
    "words = list(model.wv.vocab)\n",
    "filename = \"embedding_word2vec.txt\"\n",
    "model.wv.save_word2vec_format(filename, binary=False)"
   ]
  },
  {
   "cell_type": "code",
   "execution_count": 5,
   "metadata": {},
   "outputs": [],
   "source": [
    "def load_embedding(filename):\n",
    "    #load embedding into memory\n",
    "    file = open(filename,'r')\n",
    "    lines = file.readlines()[1:] #skip first line\n",
    "    file.close()\n",
    "    # create a map of words to vectors\n",
    "    embedding = dict()\n",
    "    for line in lines:\n",
    "        parts = line.split()\n",
    "        # key is string word, value is numpy array for vector\n",
    "        embedding[parts[0]] = asarray(parts[1:], dtype='float32')\n",
    "    return embedding\n",
    "\n",
    "def get_weight_matrix(embedding, word_indices):\n",
    "    # total vocabulary size plus 0 for unknown words\n",
    "    vocab_size = len(word_indices)+1\n",
    "    # define weight matrix dimensions with all 0\n",
    "    weight_matrix = zeros((vocab_size, 100))\n",
    "    # step vocab, store vectors using the Tokenizer's integer mapping\n",
    "    for word, i in word_indices.items():\n",
    "        weight_matrix[i] = embedding.get(word)\n",
    "    return weight_matrix"
   ]
  },
  {
   "cell_type": "code",
   "execution_count": 6,
   "metadata": {},
   "outputs": [],
   "source": [
    "tokenizer = Tokenizer()\n",
    "tokenizer.fit_on_texts(train_documents)\n",
    "encoded_docs = tokenizer.texts_to_sequences(train_documents)\n",
    "\n",
    "max_length = max(([len(s) for s in train_documents]))\n",
    "train_labels = train_data['CAT']\n",
    "Xtrain = pad_sequences(encoded_docs, maxlen=max_length, padding='post')\n",
    "ytrain = keras.utils.to_categorical(train_labels, num_classes=5)\n",
    "\n",
    "encoded_docs = tokenizer.texts_to_sequences(test_documents)\n",
    "test_labels = test_data['CAT']\n",
    "Xtest = pad_sequences(encoded_docs, maxlen=max_length, padding='post')\n",
    "ytest = keras.utils.to_categorical(test_labels, num_classes=5)\n",
    "\n",
    "#print(max_length)"
   ]
  },
  {
   "cell_type": "code",
   "execution_count": 7,
   "metadata": {},
   "outputs": [],
   "source": [
    "vocab_size = len(tokenizer.word_index)+1\n",
    "raw_embedding = load_embedding('embedding_word2vec.txt')\n",
    "\n",
    "weight_matrix = zeros((vocab_size, 100))\n",
    "for word,i in tokenizer.word_index.items():\n",
    "    if word in raw_embedding:\n",
    "        weight_matrix[i] = raw_embedding[word]\n",
    "#print(weight_matrix)\n",
    "embedding_layer = Embedding(vocab_size, 100, weights=[weight_matrix], input_length=max_length, trainable=True)"
   ]
  },
  {
   "cell_type": "code",
   "execution_count": 8,
   "metadata": {},
   "outputs": [
    {
     "name": "stdout",
     "output_type": "stream",
     "text": [
      "_________________________________________________________________\n",
      "Layer (type)                 Output Shape              Param #   \n",
      "=================================================================\n",
      "embedding_1 (Embedding)      (None, 1685, 100)         1322900   \n",
      "_________________________________________________________________\n",
      "conv1d_1 (Conv1D)            (None, 1678, 32)          25632     \n",
      "_________________________________________________________________\n",
      "max_pooling1d_1 (MaxPooling1 (None, 839, 32)           0         \n",
      "_________________________________________________________________\n",
      "flatten_1 (Flatten)          (None, 26848)             0         \n",
      "_________________________________________________________________\n",
      "dropout_1 (Dropout)          (None, 26848)             0         \n",
      "_________________________________________________________________\n",
      "dense_1 (Dense)              (None, 5)                 134245    \n",
      "=================================================================\n",
      "Total params: 1,482,777\n",
      "Trainable params: 1,482,777\n",
      "Non-trainable params: 0\n",
      "_________________________________________________________________\n",
      "None\n"
     ]
    }
   ],
   "source": [
    "model = Sequential()\n",
    "model.add(embedding_layer)\n",
    "model.add(Conv1D(filters=32, kernel_size=8, activation='relu'))\n",
    "model.add(MaxPooling1D(pool_size=2))\n",
    "model.add(Flatten())\n",
    "model.add(Dropout(0.1))\n",
    "model.add(Dense(5, activation='softmax'))\n",
    "print(model.summary())"
   ]
  },
  {
   "cell_type": "code",
   "execution_count": 9,
   "metadata": {},
   "outputs": [
    {
     "name": "stdout",
     "output_type": "stream",
     "text": [
      "Train on 1753 samples, validate on 472 samples\n",
      "Epoch 1/15\n",
      " - 7s - loss: 1.5112 - acc: 0.3292 - val_loss: 1.4439 - val_acc: 0.3517\n",
      "Epoch 2/15\n",
      " - 4s - loss: 1.2582 - acc: 0.5048 - val_loss: 1.2488 - val_acc: 0.4979\n",
      "Epoch 3/15\n",
      " - 4s - loss: 0.7280 - acc: 0.7416 - val_loss: 0.8092 - val_acc: 0.6822\n",
      "Epoch 4/15\n",
      " - 4s - loss: 0.3032 - acc: 0.9104 - val_loss: 0.5559 - val_acc: 0.7839\n",
      "Epoch 5/15\n",
      " - 4s - loss: 0.0893 - acc: 0.9875 - val_loss: 0.5286 - val_acc: 0.8072\n",
      "Epoch 6/15\n",
      " - 4s - loss: 0.0278 - acc: 0.9989 - val_loss: 0.4060 - val_acc: 0.8750\n",
      "Epoch 7/15\n",
      " - 4s - loss: 0.0112 - acc: 1.0000 - val_loss: 0.4082 - val_acc: 0.8581\n",
      "Epoch 8/15\n",
      " - 4s - loss: 0.0063 - acc: 1.0000 - val_loss: 0.3765 - val_acc: 0.8856\n",
      "Epoch 9/15\n",
      " - 4s - loss: 0.0040 - acc: 1.0000 - val_loss: 0.3672 - val_acc: 0.8898\n",
      "Epoch 10/15\n",
      " - 4s - loss: 0.0031 - acc: 1.0000 - val_loss: 0.3615 - val_acc: 0.8856\n",
      "Epoch 11/15\n",
      " - 4s - loss: 0.0023 - acc: 1.0000 - val_loss: 0.3586 - val_acc: 0.8856\n",
      "Epoch 12/15\n",
      " - 4s - loss: 0.0018 - acc: 1.0000 - val_loss: 0.3573 - val_acc: 0.8941\n",
      "Epoch 13/15\n",
      " - 4s - loss: 0.0015 - acc: 1.0000 - val_loss: 0.3634 - val_acc: 0.8962\n",
      "Epoch 14/15\n",
      " - 4s - loss: 0.0013 - acc: 1.0000 - val_loss: 0.3591 - val_acc: 0.8941\n",
      "Epoch 15/15\n",
      " - 4s - loss: 0.0011 - acc: 1.0000 - val_loss: 0.3538 - val_acc: 0.8919\n"
     ]
    },
    {
     "data": {
      "text/plain": [
       "<keras.callbacks.History at 0x23378be6f60>"
      ]
     },
     "execution_count": 9,
     "metadata": {},
     "output_type": "execute_result"
    }
   ],
   "source": [
    "model.compile(loss='categorical_crossentropy', optimizer='adam', metrics=['accuracy'])\n",
    "# fit network\n",
    "model.fit(Xtrain, ytrain, epochs=15, verbose=2, validation_data = (Xtest,ytest))"
   ]
  },
  {
   "cell_type": "code",
   "execution_count": 10,
   "metadata": {},
   "outputs": [
    {
     "data": {
      "text/plain": [
       "array([[0.19550407, 0.14542279, 0.28563198, 0.01751138, 0.35592976]],\n",
       "      dtype=float32)"
      ]
     },
     "execution_count": 10,
     "metadata": {},
     "output_type": "execute_result"
    }
   ],
   "source": [
    "random_text = [\"I love business and sports\"]\n",
    "encoded_text = tokenizer.texts_to_sequences(random_text)\n",
    "test_text = pad_sequences(encoded_text, maxlen = max_length, padding= 'post')\n",
    "model.predict(test_text)"
   ]
  },
  {
   "cell_type": "code",
   "execution_count": 12,
   "metadata": {},
   "outputs": [
    {
     "data": {
      "image/png": "[encoded data removed]",
      "text/plain": [
       "<Figure size 432x288 with 2 Axes>"
      ]
     },
     "metadata": {
      "needs_background": "light"
     },
     "output_type": "display_data"
    }
   ],
   "source": [
    "ypred = model.predict(Xtest)\n",
    "pred_labels = []\n",
    "for probs in ypred:\n",
    "    label = np.argmax(probs, axis=-1)\n",
    "    pred_labels.append(int(label))\n",
    "actual_labels = list(test_labels)\n",
    "\n",
    "from sklearn.metrics import confusion_matrix\n",
    "cm = confusion_matrix(actual_labels, pred_labels)\n",
    "\n",
    "import matplotlib.pyplot as plt\n",
    "import itertools\n",
    "cmap = plt.cm.Blues\n",
    "title = \"Confusion Matrix\"\n",
    "classes = 5\n",
    "normalize = False\n",
    "tick_marks = np.arange(classes)\n",
    "plt.imshow(cm, interpolation='nearest', cmap=cmap)\n",
    "plt.title(title)\n",
    "plt.colorbar()\n",
    "tick_marks = np.arange(5)\n",
    "#plt.xticks(tick_marks, classes, rotation=45)\n",
    "#plt.yticks(tick_marks, classes)\n",
    "\n",
    "fmt = '.2f' if normalize else 'd'\n",
    "thresh = cm.max() / 2.\n",
    "for i, j in itertools.product(range(cm.shape[0]), range(cm.shape[1])):\n",
    "    plt.text(j, i, format(cm[i, j], fmt),\n",
    "             horizontalalignment=\"center\",\n",
    "             color=\"white\" if cm[i, j] > thresh else \"black\")\n",
    "\n",
    "plt.tight_layout()\n",
    "plt.ylabel('True label')\n",
    "plt.xlabel('Predicted label')\n",
    "plt.show()"
   ]
  },
  {
   "cell_type": "code",
   "execution_count": null,
   "metadata": {},
   "outputs": [],
   "source": []
  },
  {
   "cell_type": "code",
   "execution_count": null,
   "metadata": {},
   "outputs": [],
   "source": []
  }
 ],
 "metadata": {
  "kernelspec": {
   "display_name": "Python 3",
   "language": "python",
   "name": "python3"
  },
  "language_info": {
   "codemirror_mode": {
    "name": "ipython",
    "version": 3
   },
   "file_extension": ".py",
   "mimetype": "text/x-python",
   "name": "python",
   "nbconvert_exporter": "python",
   "pygments_lexer": "ipython3",
   "version": "3.6.6"
  }
 },
 "nbformat": 4,
 "nbformat_minor": 2
}
