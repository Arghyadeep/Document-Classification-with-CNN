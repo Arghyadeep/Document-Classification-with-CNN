{
 "cells": [
  {
   "cell_type": "code",
   "execution_count": 1,
   "metadata": {},
   "outputs": [
    {
     "name": "stderr",
     "output_type": "stream",
     "text": [
      "Using TensorFlow backend.\n"
     ]
    }
   ],
   "source": [
    "#dependencies\n",
    "from string import punctuation\n",
    "from os import listdir\n",
    "from numpy import array\n",
    "from numpy import asarray\n",
    "from numpy import zeros\n",
    "import pandas as pd\n",
    "import numpy as np\n",
    "from numpy import array\n",
    "import keras\n",
    "from keras.preprocessing.text import Tokenizer\n",
    "from keras.preprocessing.sequence import pad_sequences\n",
    "from keras.models import Sequential\n",
    "from keras.layers import Dense,Dropout\n",
    "from keras.layers import Flatten\n",
    "from keras.layers import Embedding\n",
    "from keras.layers.convolutional import Conv1D\n",
    "from keras.layers.convolutional import MaxPooling1D"
   ]
  },
  {
   "cell_type": "code",
   "execution_count": 2,
   "metadata": {},
   "outputs": [],
   "source": [
    "def load_data(filename,encoding):\n",
    "    data = pd.read_csv(filename,encoding=encoding)\n",
    "    return data\n",
    "\n",
    "def create_train_test_sets(data,split):\n",
    "    np.random.seed(0)\n",
    "    mask = np.random.rand(len(data)) < split\n",
    "    train_data = data[mask]\n",
    "    test_data = data[~mask]\n",
    "    return train_data,test_data\n",
    "\n",
    "def clean_and_get_tokens(doc):\n",
    "    tokens = doc.split()\n",
    "    table = str.maketrans('','',punctuation)\n",
    "    tokens = [w.translate(table) for w in tokens]\n",
    "    tokens = [word for word in tokens if word.isalpha()]\n",
    "    tokens = [word for word in tokens if len(word)>2]\n",
    "    return tokens"
   ]
  },
  {
   "cell_type": "code",
   "execution_count": 3,
   "metadata": {},
   "outputs": [],
   "source": [
    "data = load_data('bbc/BBC_news.csv','latin1')\n",
    "words = set()\n",
    "vocab = {}\n",
    "\n",
    "\n",
    "token = data['texts'][0].split()\n",
    "table = str.maketrans('','',punctuation)\n",
    "tokens = [w.translate(table) for w in token] \n",
    "#print(tokens)\n",
    "tokens = [word for word in tokens if word.isalpha()]\n",
    "tokens = [word for word in tokens if len(word)>2]\n",
    "#print(tokens)\n",
    "\n",
    "documents = data['texts']\n",
    "for doc in documents:\n",
    "    tokens = clean_and_get_tokens(doc)\n",
    "    for token in tokens:\n",
    "        if token in vocab:\n",
    "            vocab[token] += 1\n",
    "        else:\n",
    "            vocab[token] = 1\n",
    "\n",
    "for word in vocab:\n",
    "    if vocab[word] > 5:\n",
    "        words.add(word)\n",
    "\n",
    "\n",
    "\n",
    "train_data,test_data = create_train_test_sets(data,0.8)\n",
    "\n",
    "train_documents = []\n",
    "for doc in train_data['texts']:\n",
    "    tokens = doc.split()\n",
    "    final_tokens = []\n",
    "    #final_string = ''\n",
    "    for token in tokens:\n",
    "        if token in words:\n",
    "            final_tokens.append(token)\n",
    "    final_string = ' '.join(final_tokens)\n",
    "    train_documents.append(final_string)\n",
    "\n",
    "test_documents = []\n",
    "for doc in test_data['texts']:\n",
    "    tokens = doc.split()\n",
    "    final_tokens = []\n",
    "    #final_string = ''\n",
    "    for token in tokens:\n",
    "        if token in words:\n",
    "            final_tokens.append(token)\n",
    "    final_string = ' '.join(final_tokens)\n",
    "    test_documents.append(final_string)"
   ]
  },
  {
   "cell_type": "code",
   "execution_count": 4,
   "metadata": {},
   "outputs": [],
   "source": [
    "def load_embedding(filename,encoding): \n",
    "    file = open(filename,'r',encoding=encoding)\n",
    "    lines = file.readlines()[1:]\n",
    "    file.close()\n",
    "    embedding = dict()\n",
    "    for line in lines:\n",
    "        parts = line.split()\n",
    "        embedding[parts[0]] = asarray(parts[1:], dtype='float32')\n",
    "    return embedding"
   ]
  },
  {
   "cell_type": "code",
   "execution_count": 5,
   "metadata": {},
   "outputs": [],
   "source": [
    "tokenizer = Tokenizer()\n",
    "tokenizer.fit_on_texts(train_documents)\n",
    "encoded_docs = tokenizer.texts_to_sequences(train_documents)\n",
    "\n",
    "max_length = max(([len(s.split()) for s in train_documents]))\n",
    "labels = train_data['CAT']\n",
    "train_labels = labels\n",
    "Xtrain = pad_sequences(encoded_docs, maxlen=max_length, padding='post')\n",
    "ytrain = keras.utils.to_categorical(labels, num_classes=5)"
   ]
  },
  {
   "cell_type": "code",
   "execution_count": 6,
   "metadata": {},
   "outputs": [],
   "source": [
    "encoded_docs = tokenizer.texts_to_sequences(test_documents)\n",
    "labels = test_data['CAT']\n",
    "Xtest = pad_sequences(encoded_docs, maxlen=max_length, padding='post')\n",
    "ytest = keras.utils.to_categorical(labels, num_classes=5)"
   ]
  },
  {
   "cell_type": "code",
   "execution_count": 7,
   "metadata": {},
   "outputs": [],
   "source": [
    "vocab_size = len(tokenizer.word_index)+1\n",
    "raw_embedding = load_embedding('glove.6B.100d.txt','utf8')\n",
    "\n",
    "weight_matrix = zeros((vocab_size, 100))\n",
    "for word,i in tokenizer.word_index.items():\n",
    "    if word in raw_embedding:\n",
    "        weight_matrix[i] = raw_embedding[word]\n",
    "embedding_layer = Embedding(vocab_size, 100, weights=[weight_matrix], input_length=max_length, trainable=True)"
   ]
  },
  {
   "cell_type": "code",
   "execution_count": 8,
   "metadata": {},
   "outputs": [
    {
     "name": "stdout",
     "output_type": "stream",
     "text": [
      "_________________________________________________________________\n",
      "Layer (type)                 Output Shape              Param #   \n",
      "=================================================================\n",
      "embedding_2 (Embedding)      (None, 2687, 100)         882500    \n",
      "_________________________________________________________________\n",
      "conv1d_1 (Conv1D)            (None, 2672, 16)          25616     \n",
      "_________________________________________________________________\n",
      "max_pooling1d_1 (MaxPooling1 (None, 1336, 16)          0         \n",
      "_________________________________________________________________\n",
      "flatten_1 (Flatten)          (None, 21376)             0         \n",
      "_________________________________________________________________\n",
      "dropout_1 (Dropout)          (None, 21376)             0         \n",
      "_________________________________________________________________\n",
      "dense_1 (Dense)              (None, 5)                 106885    \n",
      "=================================================================\n",
      "Total params: 1,015,001\n",
      "Trainable params: 1,015,001\n",
      "Non-trainable params: 0\n",
      "_________________________________________________________________\n",
      "None\n"
     ]
    }
   ],
   "source": [
    "vocab_size = len(tokenizer.word_index) + 1\n",
    "\n",
    "model = Sequential()\n",
    "model.add(Embedding(vocab_size, 100, input_length = max_length))\n",
    "model.add(Conv1D(filters=16, kernel_size=16, activation='relu'))\n",
    "model.add(MaxPooling1D(pool_size=2))\n",
    "model.add(Flatten())\n",
    "model.add(Dropout(0.2))\n",
    "model.add(Dense(5, activation='softmax'))\n",
    "print(model.summary())"
   ]
  },
  {
   "cell_type": "code",
   "execution_count": 9,
   "metadata": {},
   "outputs": [
    {
     "name": "stdout",
     "output_type": "stream",
     "text": [
      "Train on 1753 samples, validate on 472 samples\n",
      "Epoch 1/3\n",
      " - 19s - loss: 1.5356 - acc: 0.3155 - val_loss: 1.4198 - val_acc: 0.3347\n",
      "Epoch 2/3\n",
      " - 7s - loss: 0.7445 - acc: 0.7268 - val_loss: 0.3407 - val_acc: 0.8771\n",
      "Epoch 3/3\n",
      " - 8s - loss: 0.0879 - acc: 0.9749 - val_loss: 0.1624 - val_acc: 0.9513\n"
     ]
    },
    {
     "data": {
      "text/plain": [
       "<keras.callbacks.History at 0x1e045134fd0>"
      ]
     },
     "execution_count": 9,
     "metadata": {},
     "output_type": "execute_result"
    }
   ],
   "source": [
    "model.compile(loss='categorical_crossentropy', optimizer='adam', metrics=['accuracy'])\n",
    "# fit network\n",
    "model.fit(Xtrain, ytrain, epochs=3, verbose=2, validation_data = (Xtest,ytest))"
   ]
  },
  {
   "cell_type": "code",
   "execution_count": 10,
   "metadata": {},
   "outputs": [
    {
     "data": {
      "text/plain": [
       "array([[1.4175244e-05, 8.4548783e-01, 1.4801595e-01, 3.5826231e-03,\n",
       "        2.8994626e-03]], dtype=float32)"
      ]
     },
     "execution_count": 10,
     "metadata": {},
     "output_type": "execute_result"
    }
   ],
   "source": [
    "random_text = [\"I love business and sports\"]\n",
    "encoded_text = tokenizer.texts_to_sequences(random_text)\n",
    "test_text = pad_sequences(encoded_text, maxlen = max_length, padding= 'post')\n",
    "model.predict(test_text)"
   ]
  },
  {
   "cell_type": "code",
   "execution_count": 11,
   "metadata": {},
   "outputs": [],
   "source": [
    "ypred = model.predict(Xtest)\n",
    "pred_labels = []\n",
    "for probs in ypred:\n",
    "    label = np.argmax(probs, axis=-1)\n",
    "    pred_labels.append(int(label))\n",
    "actual_labels = list(labels)"
   ]
  },
  {
   "cell_type": "code",
   "execution_count": 12,
   "metadata": {},
   "outputs": [],
   "source": [
    "from sklearn.metrics import confusion_matrix\n",
    "cm = confusion_matrix(actual_labels, pred_labels)"
   ]
  },
  {
   "cell_type": "code",
   "execution_count": 14,
   "metadata": {},
   "outputs": [
    {
     "data": {
      "image/png": "[encoded data removed]",
      "text/plain": [
       "<Figure size 432x288 with 2 Axes>"
      ]
     },
     "metadata": {
      "needs_background": "light"
     },
     "output_type": "display_data"
    }
   ],
   "source": [
    "import matplotlib.pyplot as plt\n",
    "import itertools\n",
    "cmap = plt.cm.Blues\n",
    "title = \"Confusion Matrix\"\n",
    "classes = 5\n",
    "normalize = False\n",
    "tick_marks = np.arange(classes)\n",
    "plt.imshow(cm, interpolation='nearest', cmap=cmap)\n",
    "plt.title(title)\n",
    "plt.colorbar()\n",
    "tick_marks = np.arange(5)\n",
    "#plt.xticks(tick_marks, classes, rotation=45)\n",
    "#plt.yticks(tick_marks, classes)\n",
    "\n",
    "fmt = '.2f' if normalize else 'd'\n",
    "thresh = cm.max() / 2.\n",
    "for i, j in itertools.product(range(cm.shape[0]), range(cm.shape[1])):\n",
    "    plt.text(j, i, format(cm[i, j], fmt),\n",
    "             horizontalalignment=\"center\",\n",
    "             color=\"white\" if cm[i, j] > thresh else \"black\")\n",
    "\n",
    "plt.tight_layout()\n",
    "plt.ylabel('True label')\n",
    "plt.xlabel('Predicted label')\n",
    "plt.show()"
   ]
  },
  {
   "cell_type": "code",
   "execution_count": null,
   "metadata": {},
   "outputs": [],
   "source": []
  },
  {
   "cell_type": "code",
   "execution_count": null,
   "metadata": {},
   "outputs": [],
   "source": []
  }
 ],
 "metadata": {
  "kernelspec": {
   "display_name": "Python 3",
   "language": "python",
   "name": "python3"
  },
  "language_info": {
   "codemirror_mode": {
    "name": "ipython",
    "version": 3
   },
   "file_extension": ".py",
   "mimetype": "text/x-python",
   "name": "python",
   "nbconvert_exporter": "python",
   "pygments_lexer": "ipython3",
   "version": "3.6.6"
  }
 },
 "nbformat": 4,
 "nbformat_minor": 2
}
